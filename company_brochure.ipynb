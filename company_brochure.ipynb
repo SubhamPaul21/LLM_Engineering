{
 "cells": [
  {
   "cell_type": "markdown",
   "metadata": {},
   "source": [
    "Create a product that builds a Brochure for a company to be used for prospective clients, investors and potential recruits.\n",
    "\n",
    "We will be provided a company name and their primary website."
   ]
  },
  {
   "cell_type": "code",
   "execution_count": 11,
   "metadata": {},
   "outputs": [],
   "source": [
    "#imports\n",
    "import os\n",
    "import requests\n",
    "import json\n",
    "from dotenv import load_dotenv\n",
    "from bs4 import BeautifulSoup\n",
    "from IPython.display import Markdown, display, update_display"
   ]
  },
  {
   "cell_type": "code",
   "execution_count": 2,
   "metadata": {},
   "outputs": [
    {
     "name": "stdout",
     "output_type": "stream",
     "text": [
      "Note: you may need to restart the kernel to use updated packages.\n"
     ]
    },
    {
     "name": "stderr",
     "output_type": "stream",
     "text": [
      "WARNING: Ignoring invalid distribution ~ransformers (d:\\anaconda\\envs\\llms\\Lib\\site-packages)\n",
      "ERROR: Could not find a version that satisfies the requirement urllib (from versions: none)\n",
      "ERROR: No matching distribution found for urllib\n"
     ]
    }
   ],
   "source": [
    "%pip install urllib"
   ]
  },
  {
   "cell_type": "code",
   "execution_count": 3,
   "metadata": {},
   "outputs": [],
   "source": [
    "#uncomment to import the library based on the provider you prefer to use.\n",
    "\n",
    "# import ollama\n",
    "# from openai import OpenAI\n",
    "from groq import Groq"
   ]
  },
  {
   "cell_type": "code",
   "execution_count": 5,
   "metadata": {},
   "outputs": [],
   "source": [
    "# uncomment the model you prefer to use for your tool\n",
    "\n",
    "# MODEL_LLAMA = \"llama3.2\"\n",
    "# MODEL_GPT = \"gpt-4o-mini\"\n",
    "MODEL_GROQ_DEEPSEEK = \"deepseek-r1-distill-llama-70b\""
   ]
  },
  {
   "cell_type": "code",
   "execution_count": 10,
   "metadata": {},
   "outputs": [],
   "source": [
    "# if using gpt or groq, load api key, else ignore if using ollama\n",
    "load_dotenv(override=True)\n",
    "api_key = os.getenv(\"GROQ_API_KEY\") # change env variable name to the one present in your .env file\n",
    "\n",
    "client = Groq(api_key=api_key)\n",
    "# client = OpenAI(api_key=api_key)\n",
    "# client = ollama"
   ]
  },
  {
   "cell_type": "code",
   "execution_count": 7,
   "metadata": {},
   "outputs": [],
   "source": [
    "# A class to represent a Webpage\n",
    "\n",
    "# Some websites need you to use proper headers when fetching them:\n",
    "headers = {\n",
    "    \"User-Agent\": \"Mozilla/5.0 (Windows NT 10.0; Win64; x64) AppleWebKit/537.36 (KHTML, like Gecko) Chrome/117.0.0.0 Safari/537.36\"\n",
    "}\n",
    "\n",
    "class Website:\n",
    "    \"\"\"\n",
    "    A utility class to represent a Website that we have scraped, now with links\n",
    "    \"\"\"\n",
    "\n",
    "    def __init__(self, url):\n",
    "        self.url = url\n",
    "        response = requests.get(url, headers=headers)\n",
    "        self.body = response.content\n",
    "        soup = BeautifulSoup(self.body, 'html.parser')\n",
    "        self.title = soup.title.string if soup.title else \"No title found\"\n",
    "        if soup.body:\n",
    "            for irrelevant in soup.body([\"script\", \"style\", \"img\", \"input\"]):\n",
    "                irrelevant.decompose()\n",
    "            self.text = soup.body.get_text(separator=\"\\n\", strip=True)\n",
    "        else:\n",
    "            self.text = \"\"\n",
    "        links = [link.get('href') for link in soup.find_all('a')]\n",
    "        self.links = [link for link in links if link]\n",
    "\n",
    "    def get_contents(self):\n",
    "        return f\"Webpage Title:\\n{self.title}\\nWebpage Contents:\\n{self.text}\\n\\n\""
   ]
  },
  {
   "cell_type": "markdown",
   "metadata": {},
   "source": [
    "Use a call to the LLM model to read the links on a webpage, and respond in structured JSON.\n",
    "\n",
    "It should decide which links are relevant, and replace relative links such as \"/about\" with \"https://company.com/about\".\n",
    "\n",
    "We will use \"<b>one shot prompting</b>\" in which we provide an example of how it should respond in the prompt.\n",
    "\n",
    "This is an excellent use case for an LLM, because it requires nuanced understanding. Imagine trying to code this without LLMs by parsing and analyzing the webpage - it would be very hard!"
   ]
  },
  {
   "cell_type": "code",
   "execution_count": 8,
   "metadata": {},
   "outputs": [],
   "source": [
    "link_system_prompt = \"You are provided with a list of links found on a webpage. \\\n",
    "    You can decide which of the links would be most relevant to be included in a brochure about the company, \\\n",
    "        such as links to an About page, a Company page, or Careers/Jobs pages. \\n\"\n",
    "\n",
    "link_system_prompt += \"You must respond in JSON as shown in this example:\\n\"\n",
    "link_system_prompt += \"\"\"\n",
    "    {\n",
    "        \"links\": [\n",
    "            {\"type\": \"about page\", \"url\": \"https://url/about\"},\n",
    "            {\"type\": \"careers page\", \"url\": \"https://url/relevant paths/careers\"},\n",
    "        ]\n",
    "    }\n",
    "\"\"\"\n",
    "link_system_prompt += \"Each 'url' key in the above JSON should be a single URL string and not a list of URL links\""
   ]
  },
  {
   "cell_type": "code",
   "execution_count": 9,
   "metadata": {},
   "outputs": [],
   "source": [
    "def get_links_user_prompt(website):\n",
    "    user_prompt = f\"Here is the list of links on the website of {website.url} - \"\n",
    "    user_prompt += \"Please decide which of these are relevant web links for a brochure about the company, and respond with the full \\\n",
    "        company HTTP URL in JSON format. Do not include links/pages such as Terms of Service, Privacy, Email, Courses, Invalid, Page \\\n",
    "            not found and positively make sure the company links you respond should all be valid and working links \\n\"\n",
    "    user_prompt += \"Links (some might be relative links):\\n\"\n",
    "    user_prompt += \"\\n\".join(website.links)\n",
    "    return user_prompt"
   ]
  },
  {
   "cell_type": "code",
   "execution_count": 12,
   "metadata": {},
   "outputs": [],
   "source": [
    "def get_links(url):\n",
    "    website = Website(url)\n",
    "    response = client.chat.completions.create(\n",
    "        model = MODEL_GROQ_DEEPSEEK,\n",
    "        messages = [\n",
    "            {\"role\": \"system\", \"content\": link_system_prompt},\n",
    "            {\"role\": \"user\", \"content\": get_links_user_prompt(website)}\n",
    "        ],\n",
    "        temperature = 0.6,\n",
    "        response_format = {\"type\": \"json_object\"}\n",
    "    )\n",
    "    result = response.choices[0].message.content\n",
    "    return json.loads(result)"
   ]
  },
  {
   "cell_type": "code",
   "execution_count": 19,
   "metadata": {},
   "outputs": [],
   "source": [
    "# Assemble all the details into another prompt to the LLM\n",
    "def get_all_details(url):\n",
    "    result = \"Landing page: \\n\"\n",
    "    result += Website(url).get_contents()\n",
    "    links = get_links(url)\n",
    "    print(\"Found Links: \", links)\n",
    "    for link in links[\"links\"]:\n",
    "        try:\n",
    "            result += f\"\\n\\n{link['type']}\\n\"\n",
    "            result += Website(link[\"url\"]).get_contents()\n",
    "        except Exception as e:\n",
    "            print(\"Error occured while getting contents of the website: \" + link[\"url\"])\n",
    "            continue\n",
    "    return result"
   ]
  },
  {
   "cell_type": "code",
   "execution_count": 15,
   "metadata": {},
   "outputs": [],
   "source": [
    "system_prompt = \"You are an assistant that analyzes the contents of several relevant pages from a company website \\\n",
    "and creates a short brochure about the company for prospective customers, investors and recruits. Respond in markdown.\\\n",
    "Include details of company culture, customers and careers/jobs if you have the information.\""
   ]
  },
  {
   "cell_type": "code",
   "execution_count": 16,
   "metadata": {},
   "outputs": [],
   "source": [
    "def get_brochure_user_prompt(company_name, url):\n",
    "    user_prompt = f\"You are looking at a company called: {company_name}\\n\"\n",
    "    user_prompt += f\"Here are the contents of its landing page and other relevant pages; \\\n",
    "        use this information to build a short brochure of the company in markdown.\\n\"\n",
    "    user_prompt += get_all_details(url)\n",
    "    user_prompt = user_prompt[:5_000] # Truncate if more than 5,000 characters\n",
    "    return user_prompt"
   ]
  },
  {
   "cell_type": "code",
   "execution_count": 17,
   "metadata": {},
   "outputs": [],
   "source": [
    "def create_brochure(company_name, url):\n",
    "    response = client.chat.completions.create(\n",
    "        model = MODEL_GROQ_DEEPSEEK,\n",
    "        messages = [\n",
    "            {\"role\": \"system\", \"content\": system_prompt},\n",
    "            {\"role\": \"user\", \"content\": get_brochure_user_prompt(company_name, url)}\n",
    "        ],\n",
    "        temperature = 0.6\n",
    "    )\n",
    "    result = response.choices[0].message.content\n",
    "    display(Markdown(result))"
   ]
  },
  {
   "cell_type": "code",
   "execution_count": 20,
   "metadata": {},
   "outputs": [
    {
     "name": "stdout",
     "output_type": "stream",
     "text": [
      "Found Links:  {'links': [{'type': 'home page', 'url': 'https://www.cyfrin.io/'}, {'type': 'about page', 'url': 'https://www.cyfrin.io/updraft'}, {'type': 'services page', 'url': 'https://www.cyfrin.io/smart-contract-security-audits'}, {'type': 'case studies page', 'url': 'https://www.cyfrin.io/case-studies'}, {'type': 'blog page', 'url': 'https://www.cyfrin.io/blog'}, {'type': 'certifications page', 'url': 'https://www.cyfrin.io/certifications/solidity-certification'}, {'type': 'social media - twitter', 'url': 'https://twitter.com/CyfrinAudits'}, {'type': 'social media - discord', 'url': 'https://discord.gg/cyfrin'}, {'type': 'social media - youtube', 'url': 'https://www.youtube.com/@CyfrinAudits'}, {'type': 'social media - github', 'url': 'https://github.com/Cyfrin'}, {'type': 'social media - linkedin', 'url': 'https://www.linkedin.com/company/cyfrin/'}]}\n"
     ]
    },
    {
     "data": {
      "text/markdown": [
       "<think>\n",
       "Okay, I need to create a short brochure for Cyfrin Updraft based on the provided information. Let me start by reading through all the content to understand what the company does.\n",
       "\n",
       "The landing page mentions that Cyfrin Updraft offers blockchain and smart contract development courses. They have a variety of services like private audits, competitions, education, certifications, research platforms, bug bounties, MPA, video tutorials, and documentation. They support multiple blockchain chains such as Ethereum, ZKsync, Arbitrum, etc. They also have case studies, resources like blogs, glossaries, and a brand kit. The careers section says they're hiring and always looking for talented people.\n",
       "\n",
       "Looking at the \"What is Cyfrin Updraft?\" section, it's a free web3 education platform designed to help developers become blockchain engineers and security auditors. They've taught over 200,000 students, with a million lessons watched, 60k monthly active students, and 100+ hours of content. Their courses range from beginner to expert levels, focusing on smart contract development with step-by-step tutorials and real-world projects. The courses are free and accessible without signup.\n",
       "\n",
       "The brochure needs to include company culture, customers, and careers. From the information, I can infer that the company values education, accessibility, and community. They seem to foster a culture of learning and growth. Their customers are likely developers, both new and experienced, looking to enter or advance in web3. Careers are available in various fields, and they emphasize being a great place to work with talented individuals.\n",
       "\n",
       "I should structure the brochure with sections like About Us, Our Mission, Services, Customers, Culture, Careers, and a Call to Action. I'll need to highlight their impact, the range of services, the supportive culture, and the opportunities for growth.\n",
       "\n",
       "I'll make sure to use markdown formatting, include links where necessary, and keep it concise and engaging for prospective customers, investors, and recruits.\n",
       "</think>\n",
       "\n",
       "# Cyfrin Updraft: Empowering Web3 Through Education\n",
       "\n",
       "## About Us\n",
       "\n",
       "Cyfrin Updraft is a leading provider of free web3 education, dedicated to helping developers kickstart and advance their careers in blockchain and smart contract development. Our platform offers comprehensive courses, certifications, and resources to foster growth and innovation in the web3 space.\n",
       "\n",
       "## Our Mission\n",
       "\n",
       "We believe in making high-quality education accessible to everyone. Our mission is to bridge the skills gap in the web3 industry by providing free, world-class training to aspiring blockchain engineers and security auditors.\n",
       "\n",
       "## Services\n",
       "\n",
       "- **Private Audits**: Enhance your smart contract security with our expert services.\n",
       "- **Competitions**: Participate in hackathons and bug bounties to win prizes and gain recognition.\n",
       "- **Education & Certifications**: Access a wide range of courses and certifications to validate your skills.\n",
       "- **Research Platform**: Utilize our tools for advanced security research.\n",
       "- **Community Resources**: Explore our blog, glossary, and documentation for the latest insights and knowledge.\n",
       "\n",
       "## Our Impact\n",
       "\n",
       "- **200,000+ Students Trained**: Empowering developers worldwide to enter the web3 industry.\n",
       "- **1,000,000+ Lessons Watched**: Engaging content that drives learning and growth.\n",
       "- **60,000+ Monthly Active Learners**: A vibrant community dedicated to continuous development.\n",
       "\n",
       "## Customers\n",
       "\n",
       "Our platform serves developers at all levels, from beginners exploring blockchain basics to seasoned experts refining their skills. Whether you're starting fresh or looking to advance, our resources are tailored to meet your needs.\n",
       "\n",
       "## Company Culture\n",
       "\n",
       "At Cyfrin Updraft, we value:\n",
       "\n",
       "- **Accessibility**: Free education for all, regardless of background.\n",
       "- **Innovation**: Constantly evolving to meet the latest industry demands.\n",
       "- **Community**: A supportive environment for learning and collaboration.\n",
       "- **Growth**: Encouraging continuous development and career advancement.\n",
       "\n",
       "## Careers\n",
       "\n",
       "Join our team of passionate innovators and educators. We are committed to fostering a culture of growth, collaboration, and impact. Explore our current openings and become part of a team shaping the future of web3.\n",
       "\n",
       "## Join Us\n",
       "\n",
       "Start your journey with Cyfrin Updraft today. Whether you're a student, a professional, or an investor, we invite you to be part of our mission to empower the next generation of web3 leaders.\n",
       "\n",
       "---\n",
       "\n",
       "**[Visit Cyfrin Updraft](https://cyfrinupdraft.com)** to learn more about our courses, services, and career opportunities. Together, let's build the future of blockchain."
      ],
      "text/plain": [
       "<IPython.core.display.Markdown object>"
      ]
     },
     "metadata": {},
     "output_type": "display_data"
    }
   ],
   "source": [
    "create_brochure(\"Cyfrin Updraft\", \"https://www.cyfrin.io/updraft\")"
   ]
  },
  {
   "cell_type": "markdown",
   "metadata": {},
   "source": [
    "With a small adjustment, we can change this so that the results stream back from OpenAI, with the familiar typewriter animation"
   ]
  },
  {
   "cell_type": "code",
   "execution_count": 21,
   "metadata": {},
   "outputs": [],
   "source": [
    "def stream_brochure(company_name, url):\n",
    "    stream = client.chat.completions.create(\n",
    "        model = MODEL_GROQ_DEEPSEEK,\n",
    "        messages = [\n",
    "            {\"role\": \"system\", \"content\": system_prompt},\n",
    "            {\"role\": \"user\", \"content\": get_brochure_user_prompt(company_name, url)}\n",
    "          ],\n",
    "        temperature = 0.6,\n",
    "        stream = True\n",
    "    )\n",
    "    \n",
    "    response = \"\"\n",
    "    display_handle = display(Markdown(\"\"), display_id=True)\n",
    "    for chunk in stream:\n",
    "        response += chunk.choices[0].delta.content or ''\n",
    "        response = response.replace(\"```\",\"\").replace(\"markdown\", \"\")\n",
    "        update_display(Markdown(response), display_id=display_handle.display_id)"
   ]
  },
  {
   "cell_type": "code",
   "execution_count": 22,
   "metadata": {},
   "outputs": [
    {
     "name": "stdout",
     "output_type": "stream",
     "text": [
      "Found Links:  {'links': [{'type': 'about page', 'url': 'https://www.cyfrin.io/updraft'}, {'type': 'case studies', 'url': 'https://www.cyfrin.io/case-studies'}, {'type': 'smart contract security audits', 'url': 'https://www.cyfrin.io/smart-contract-security-audits'}, {'type': 'certifications', 'url': 'https://www.cyfrin.io/certifications/solidity-certification'}, {'type': 'codehawks competitive audits', 'url': 'https://www.cyfrin.io/codehawks/competitive-audits'}, {'type': 'codehawks first flights', 'url': 'https://www.cyfrin.io/codehawks/first-flights'}, {'type': 'Twitter', 'url': 'https://twitter.com/CyfrinAudits'}, {'type': 'Discord', 'url': 'https://discord.gg/cyfrin'}, {'type': 'YouTube', 'url': 'https://www.youtube.com/@CyfrinAudits'}, {'type': 'GitHub', 'url': 'https://github.com/Cyfrin'}, {'type': 'LinkedIn', 'url': 'https://www.linkedin.com/company/cyfrin/'}, {'type': 'success stories', 'url': 'https://www.cyfrin.io/success-stories'}, {'type': 'blog', 'url': 'https://www.cyfrin.io/blog'}, {'type': 'glossary', 'url': 'https://www.cyfrin.io/glossary'}]}\n"
     ]
    },
    {
     "data": {
      "text/markdown": [
       "<think>\n",
       "Okay, so I need to create a short brochure for Cyfrin Updraft based on the provided landing page and other relevant pages. Let me start by understanding what the company does.\n",
       "\n",
       "From the landing page, it seems Cyfrin Updraft is primarily an educational platform focused on blockchain and smart contract development. They offer free courses, certifications, and have a strong emphasis on community and career development. They also have a research platform and bug bounty programs, which suggests they're involved in the security aspect of blockchain technology.\n",
       "\n",
       "Looking at the structure, the brochure should include sections like About Us, Our Offerings, Customers, Culture, Careers, and a Call to Action. Maybe also include some testimonials or success stories if available, but I don't see specific ones here.\n",
       "\n",
       "Under About Us, I should highlight their mission to make web3 education accessible, their reach (like the number of students and lessons watched), and their role in both education and security.\n",
       "\n",
       "Our Offerings should detail the courses, certifications, the research platform, and bug bounties. It's important to mention that the courses are free and open, which is a big selling point.\n",
       "\n",
       "For Customers, the case studies mentioned are about companies like Sablier and Oku Trade, so I can note that they've helped secure DeFi platforms and others in the blockchain space. Their customers are likely businesses in the web3 and DeFi sectors.\n",
       "\n",
       "Company Culture seems to focus on accessibility, community, and empowerment. They emphasize that education should be free, so that's a key cultural aspect. Also, their involvement in competitions and hackathons suggests a dynamic and engaging environment.\n",
       "\n",
       "Careers would include the fact that they're hiring and value talented individuals who are passionate about blockchain. It might also mention the collaborative and innovative work environment.\n",
       "\n",
       "I should also include a section on Getting Started, encouraging prospective students or users to take the first steps, maybe with a link or a call to action.\n",
       "\n",
       "Finally, the brochure should end with a strong call to action, encouraging people to join, whether as students, customers, or employees.\n",
       "\n",
       "I need to make sure the language is engaging and highlights the unique aspects of Cyfrin Updraft, like the free education, industry recognition, and the impact they've had on their students' careers.\n",
       "\n",
       "I should also structure it in  with appropriate headings and sections, keeping it concise but informative. Maybe include some stats like the number of students and lessons watched to add credibility.\n",
       "\n",
       "I think that's a good start. Now, I'll organize all these thoughts into the brochure structure.\n",
       "</think>\n",
       "\n",
       "# Welcome to Cyfrin Updraft\n",
       "\n",
       "## About Us\n",
       "\n",
       "Cyfrin Updraft is a pioneering educational platform dedicated to making web3 education accessible to everyone. Our mission is to empower the next generation of blockchain developers and security auditors by providing high-quality, free courses. With over 200,000 students and 1,000,000 lessons watched, we are a leader in the blockchain education space. Beyond education, we are committed to enhancing the security of the blockchain ecosystem through our research platform and bug bounty programs.\n",
       "\n",
       "## Our Offerings\n",
       "\n",
       "- **Free Courses**: Explore our extensive library of blockchain and smart contract development courses, designed for both beginners and experts. Learn from industry-recognized experts and gain hands-on experience through real-world projects.\n",
       "  \n",
       "- **Certifications**: Validate your skills with our industry-recognized certifications, helping you stand out in the competitive web3 job market.\n",
       "\n",
       "- **Research Platform**: Access cutting-edge tools to stay ahead in blockchain security and development.\n",
       "\n",
       "- **Bug Bounties**: Participate in our programs to test your skills and contribute to the security of the blockchain ecosystem.\n",
       "\n",
       "## Our Customers\n",
       "\n",
       "We have successfully supported numerous businesses in securing their platforms, including DeFi leaders like Sablier and Oku Trade. Our expertise in smart contract security has made us a trusted partner in the web3 and DeFi sectors.\n",
       "\n",
       "## Our Culture\n",
       "\n",
       "At Cyfrin Updraft, we believe in accessibility and community. We are committed to making education free and open to all, fostering a culture of empowerment and collaboration. Our engaging environment, including competitions and hackathons, encourages innovation and growth.\n",
       "\n",
       "## Careers\n",
       "\n",
       "Join our dynamic team of passionate blockchain enthusiasts. We value talent and innovation, offering a collaborative and forward-thinking work environment. Whether you're in education, security, or another field, we invite you to be part of our mission to shape the future of web3.\n",
       "\n",
       "## Getting Started\n",
       "\n",
       "Ready to embark on your web3 journey? Start with our foundational courses, explore advanced features, and engage with our community. Visit our platform to begin your learning journey today.\n",
       "\n",
       "## Call to Action\n",
       "\n",
       "**Join Cyfrin Updraft** and become part of a community that is shaping the future of blockchain technology. Whether you're a student, a professional, or an organization, we invite you to explore, learn, and grow with us.\n",
       "\n",
       "---\n",
       "\n",
       "**Cyfrin Updraft** - Empowering the Future of Blockchain"
      ],
      "text/plain": [
       "<IPython.core.display.Markdown object>"
      ]
     },
     "metadata": {},
     "output_type": "display_data"
    }
   ],
   "source": [
    "stream_brochure(\"Cyfrin Updraft\", \"https://www.cyfrin.io/updraft\")"
   ]
  },
  {
   "cell_type": "code",
   "execution_count": null,
   "metadata": {},
   "outputs": [],
   "source": []
  }
 ],
 "metadata": {
  "kernelspec": {
   "display_name": "llms",
   "language": "python",
   "name": "python3"
  },
  "language_info": {
   "codemirror_mode": {
    "name": "ipython",
    "version": 3
   },
   "file_extension": ".py",
   "mimetype": "text/x-python",
   "name": "python",
   "nbconvert_exporter": "python",
   "pygments_lexer": "ipython3",
   "version": "3.11.11"
  }
 },
 "nbformat": 4,
 "nbformat_minor": 2
}
