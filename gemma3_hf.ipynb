{
 "cells": [
  {
   "cell_type": "code",
   "execution_count": 1,
   "metadata": {},
   "outputs": [],
   "source": [
    "from IPython.display import Markdown, display"
   ]
  },
  {
   "cell_type": "code",
   "execution_count": null,
   "metadata": {},
   "outputs": [],
   "source": [
    "%pip install --upgrade transformers"
   ]
  },
  {
   "cell_type": "code",
   "execution_count": null,
   "metadata": {},
   "outputs": [],
   "source": [
    "# Use a pipeline as a high-level helper\n",
    "from transformers import pipeline\n",
    "\n",
    "system_prompt = \"You are an intelligent and smart Indian stock market anaalyst. When the user asks for details of a particular stock. You research and give be a proper analyzed report of that stock.\"\n",
    "\n",
    "stock_name = input(\"Enter the stock you want to research about: \")\n",
    "\n",
    "user_prompt = f\"Give me stock details for the following stock: ${stock_name}\"\n",
    "\n",
    "messages = [\n",
    "    {\"role\": \"system\", \"content\": system_prompt},\n",
    "    {\"role\": \"user\", \"content\": user_prompt}\n",
    "]\n",
    "\n",
    "# completion = client.chat.completions.create(\n",
    "#     model=\"meta-llama/llama-4-scout-17b-16e-instruct\",\n",
    "#     messages=messages,\n",
    "#     temperature=1,\n",
    "#     max_completion_tokens=1024,\n",
    "#     top_p=1,\n",
    "#     stream=False,\n",
    "#     stop=None,\n",
    "# )\n",
    "\n",
    "# result = completion.choices[0].message.content\n",
    "pipe = pipeline(\"image-text-to-text\", model=\"google/gemma-3-27b-it\")\n",
    "pipe(messages)\n",
    "\n",
    "display(Markdown(pipe(messages)))"
   ]
  },
  {
   "cell_type": "code",
   "execution_count": null,
   "metadata": {},
   "outputs": [],
   "source": [
    "# Load model directly\n",
    "from transformers import AutoProcessor, AutoModelForImageTextToText\n",
    "\n",
    "processor = AutoProcessor.from_pretrained(\"google/gemma-3-27b-it\")\n",
    "model = AutoModelForImageTextToText.from_pretrained(\"google/gemma-3-27b-it\")"
   ]
  }
 ],
 "metadata": {
  "kernelspec": {
   "display_name": "llms",
   "language": "python",
   "name": "python3"
  },
  "language_info": {
   "codemirror_mode": {
    "name": "ipython",
    "version": 3
   },
   "file_extension": ".py",
   "mimetype": "text/x-python",
   "name": "python",
   "nbconvert_exporter": "python",
   "pygments_lexer": "ipython3",
   "version": "3.11.11"
  }
 },
 "nbformat": 4,
 "nbformat_minor": 2
}
