{
 "cells": [
  {
   "cell_type": "code",
   "execution_count": 1,
   "id": "d112f07f",
   "metadata": {},
   "outputs": [
    {
     "name": "stderr",
     "output_type": "stream",
     "text": [
      "USER_AGENT environment variable not set, consider setting it to identify your requests.\n",
      "USER_AGENT environment variable not set, consider setting it to identify your requests.\n"
     ]
    },
    {
     "data": {
      "text/plain": [
       "True"
      ]
     },
     "execution_count": 1,
     "metadata": {},
     "output_type": "execute_result"
    }
   ],
   "source": [
    "import os\n",
    "from dotenv import load_dotenv\n",
    "from langchain_groq import ChatGroq\n",
    "from langchain_core.prompts import ChatPromptTemplate\n",
    "from langchain_core.output_parsers import StrOutputParser\n",
    "from langchain_community.document_loaders import WebBaseLoader\n",
    "import asyncio\n",
    "import bs4\n",
    "from typing import List\n",
    "from langchain.schema import Document\n",
    "from langchain.document_loaders import AsyncHtmlLoader\n",
    "from langchain.document_transformers import Html2TextTransformer\n",
    "\n",
    "load_dotenv()"
   ]
  },
  {
   "cell_type": "code",
   "execution_count": 6,
   "id": "502fc671",
   "metadata": {},
   "outputs": [],
   "source": [
    "def generate_response(\n",
    "    user_prompt: str,\n",
    "    temperature: int = 0.7,\n",
    "    tokens: int = 256,\n",
    ") -> str:\n",
    "    if not os.getenv(\"GROQ_API_KEY\"):\n",
    "        os.environ[\"GROQ_API_KEY\"] = input(\"Enter API key for Groq: \")\n",
    "\n",
    "    llm = ChatGroq(\n",
    "        model=\"openai/gpt-oss-120b\",\n",
    "        temperature=temperature,\n",
    "        max_tokens=tokens,\n",
    "    )\n",
    "\n",
    "    prompt = ChatPromptTemplate.from_messages(\n",
    "        [\n",
    "            (\n",
    "                \"system\",\n",
    "                \"You are a professional summarizer assistant. You return just the summarized \\\n",
    "                    output without any formatting or anything, just plain english output. When you cannot summarize \\\n",
    "                        just say 'I am unable to summarize the given text' in a better way\",\n",
    "            ),\n",
    "            (\n",
    "                \"human\",\n",
    "                \"{user_prompt}\",\n",
    "            ),\n",
    "        ]\n",
    "    )\n",
    "\n",
    "    # Combine prompt\n",
    "    chain = prompt | llm | StrOutputParser()\n",
    "\n",
    "    response = chain.invoke({\"user_prompt\": user_prompt})\n",
    "    return response"
   ]
  },
  {
   "cell_type": "code",
   "execution_count": 7,
   "id": "bd89c865",
   "metadata": {},
   "outputs": [
    {
     "data": {
      "text/plain": [
       "\"Absolutely—I'm ready whenever you are! Let me know what you'd like to dive into.\""
      ]
     },
     "execution_count": 7,
     "metadata": {},
     "output_type": "execute_result"
    }
   ],
   "source": [
    "generate_response(\"Are we ready?\")"
   ]
  },
  {
   "cell_type": "code",
   "execution_count": 7,
   "id": "3490237b",
   "metadata": {},
   "outputs": [],
   "source": [
    "def summarize_text(text: str) -> str:\n",
    "    summary_prompt = f\"Summarize the below text for an eight-grade student within 280 characters (no hashtags, no emojis, no links) \\\n",
    "        \\nText: {text}\"\n",
    "    formatted_prompt = summary_prompt.format(text)\n",
    "    # print(f\"Formatted Prompt: {formatted_prompt}\")\n",
    "    response = generate_response(formatted_prompt)\n",
    "    return response"
   ]
  },
  {
   "cell_type": "code",
   "execution_count": 159,
   "id": "75c9de44",
   "metadata": {},
   "outputs": [
    {
     "data": {
      "text/plain": [
       "'A simple, friendly greeting that says “Hello there.”'"
      ]
     },
     "execution_count": 159,
     "metadata": {},
     "output_type": "execute_result"
    }
   ],
   "source": [
    "summarize_text(\"Hello there\")"
   ]
  },
  {
   "cell_type": "code",
   "execution_count": 2,
   "id": "e4a14baa",
   "metadata": {},
   "outputs": [],
   "source": [
    "urls = [\n",
    "    \"https://getrecast.com/modern-media-mix-modeling/\",\n",
    "    \"https://www.saxifrage.xyz/post/econometrics-gsheets\",\n",
    "    \"https://blog.hurree.co/blog/marketing-mix-modeling\",\n",
    "    \"https://www.thinkwithgoogle.com/marketing-strategies/data-and-measurement/art-of-marketing-mix-models/\",\n",
    "    \"https://digiday.com/marketing/wtf-is-marketing-mix-modeling/\",\n",
    "    \"https://towardsdatascience.com/market-mix-modeling-mmm-101-3d094df976f9\",\n",
    "    \"https://en.wikipedia.org/wiki/Marketing_mix_modeling\",\n",
    "]"
   ]
  },
  {
   "cell_type": "code",
   "execution_count": null,
   "id": "b1e6a1e3",
   "metadata": {},
   "outputs": [],
   "source": [
    "async def load_documents(urls: list[str]):\n",
    "    try:\n",
    "        loader = WebBaseLoader(urls)\n",
    "        docs = []\n",
    "        async for doc in loader.alazy_load():\n",
    "            docs.append(doc)\n",
    "        return docs\n",
    "    except Exception as error:\n",
    "        print(f\"Error while loading documents: {error}\")"
   ]
  },
  {
   "cell_type": "code",
   "execution_count": 162,
   "id": "75e07fdd",
   "metadata": {},
   "outputs": [
    {
     "name": "stderr",
     "output_type": "stream",
     "text": [
      "d:\\Artificial Intelligence\\LLM_Engineering\\llm_venv\\Lib\\site-packages\\langchain_community\\document_loaders\\web_base.py:299: UserWarning: For better logging of progress, `pip install tqdm`\n",
      "  warnings.warn(\"For better logging of progress, `pip install tqdm`\")\n"
     ]
    }
   ],
   "source": [
    "docs = await load_documents(urls)"
   ]
  },
  {
   "cell_type": "code",
   "execution_count": null,
   "id": "55ea5afc",
   "metadata": {},
   "outputs": [],
   "source": [
    "text = docs[1].metadata.get(\"description\")\n",
    "summarize_text(text)"
   ]
  },
  {
   "cell_type": "code",
   "execution_count": 3,
   "id": "90319404",
   "metadata": {},
   "outputs": [],
   "source": [
    "async def load_formatted_documents(urls: list[str]):\n",
    "    try:\n",
    "        loader = AsyncHtmlLoader(urls)\n",
    "        transformer = Html2TextTransformer()\n",
    "        # docs: List[Document] = []\n",
    "        # async for doc in loader.alazy_load():  # ensure this yields Document\n",
    "        #     # If it yields tuples, extract the Document part here:\n",
    "        #     if isinstance(doc, tuple) and len(doc) > 0:\n",
    "        #         docs.append(doc)\n",
    "        docs = loader.load()\n",
    "        transformer = Html2TextTransformer()\n",
    "        docs_text = transformer.transform_documents(docs)  # batch transform\n",
    "        return docs_text\n",
    "    except Exception as error:\n",
    "        print(f\"Error while loading documents: {error}\")"
   ]
  },
  {
   "cell_type": "code",
   "execution_count": 4,
   "id": "556b0018",
   "metadata": {},
   "outputs": [
    {
     "name": "stderr",
     "output_type": "stream",
     "text": [
      "Fetching pages: 100%|##########| 7/7 [00:02<00:00,  2.88it/s]\n"
     ]
    }
   ],
   "source": [
    "formatted_docs = await load_formatted_documents(urls)"
   ]
  },
  {
   "cell_type": "code",
   "execution_count": 9,
   "id": "dc5e0b12",
   "metadata": {},
   "outputs": [
    {
     "name": "stdout",
     "output_type": "stream",
     "text": [
      "Formatted Docs: How can your organization shift from legacy to modern media mix modeling? We explain how to operationalize modern solutions in your business.\n"
     ]
    },
    {
     "data": {
      "text/plain": [
       "\"Your company can move from old ways of measuring ads to newer, smarter methods. We'll show how to set up these modern tools in your business.\""
      ]
     },
     "execution_count": 9,
     "metadata": {},
     "output_type": "execute_result"
    }
   ],
   "source": [
    "formatted_text = formatted_docs[0].metadata.get(\"description\")\n",
    "print(f\"Formatted Docs: {formatted_text}\")\n",
    "summarize_text(formatted_text)"
   ]
  },
  {
   "cell_type": "code",
   "execution_count": null,
   "id": "7b9e7e7e",
   "metadata": {},
   "outputs": [],
   "source": []
  }
 ],
 "metadata": {
  "kernelspec": {
   "display_name": "llm_venv",
   "language": "python",
   "name": "python3"
  },
  "language_info": {
   "codemirror_mode": {
    "name": "ipython",
    "version": 3
   },
   "file_extension": ".py",
   "mimetype": "text/x-python",
   "name": "python",
   "nbconvert_exporter": "python",
   "pygments_lexer": "ipython3",
   "version": "3.12.11"
  }
 },
 "nbformat": 4,
 "nbformat_minor": 5
}
