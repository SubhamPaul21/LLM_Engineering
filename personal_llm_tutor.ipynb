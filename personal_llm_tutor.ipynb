{
 "cells": [
  {
   "cell_type": "markdown",
   "metadata": {},
   "source": [
    "Create a personal tutor tool that explains technical questions related to LLM, Agents and Python\n",
    "\n",
    "We will be provided with a technical question."
   ]
  },
  {
   "cell_type": "code",
   "execution_count": 5,
   "metadata": {},
   "outputs": [],
   "source": [
    "# imports\n",
    "import os\n",
    "from dotenv import load_dotenv\n",
    "from IPython.display import Markdown, display, update_display"
   ]
  },
  {
   "cell_type": "code",
   "execution_count": 2,
   "metadata": {},
   "outputs": [],
   "source": [
    "#uncomment to import the library based on the provider you prefer to use.\n",
    "\n",
    "# import ollama\n",
    "# from openai import OpenAI\n",
    "from groq import Groq"
   ]
  },
  {
   "cell_type": "code",
   "execution_count": 3,
   "metadata": {},
   "outputs": [],
   "source": [
    "# uncomment the model you prefer to use for your tool\n",
    "\n",
    "# MODEL_LLAMA = \"llama3.2\"\n",
    "# MODEL_GPT = \"gpt-4o-mini\"\n",
    "MODEL_GROQ_DEEPSEEK = \"deepseek-r1-distill-llama-70b\""
   ]
  },
  {
   "cell_type": "code",
   "execution_count": 6,
   "metadata": {},
   "outputs": [],
   "source": [
    "# if using gpt or groq, load api key, else ignore if using ollama\n",
    "load_dotenv(override=True)\n",
    "api_key = os.getenv(\"GROQ_API_KEY\") # change env variable name to the one present in your .env file\n",
    "\n",
    "client = Groq(api_key=api_key)\n",
    "# client = OpenAI(api_key=api_key)\n",
    "# client = ollama"
   ]
  },
  {
   "cell_type": "code",
   "execution_count": 9,
   "metadata": {},
   "outputs": [],
   "source": [
    "system_prompt = \"You are a well educated tutor with specialization to provide explanations to technical questions related to Python \\\n",
    "        language, LLM, Agents and Artificial Intelligence. You need to explain the question briefly and in a friendly and \\\n",
    "        easy to understand manner.\""
   ]
  },
  {
   "cell_type": "code",
   "execution_count": 11,
   "metadata": {},
   "outputs": [],
   "source": [
    "def get_answer():\n",
    "    user_prompt = input(\"Please enter your question here: \")\n",
    "    stream = client.chat.completions.create(\n",
    "        model = MODEL_GROQ_DEEPSEEK,\n",
    "        messages = [\n",
    "            {\"role\": \"system\", \"content\": system_prompt},\n",
    "            {\"role\": \"user\", \"content\": user_prompt}\n",
    "        ],\n",
    "        temperature = 0.6,\n",
    "        stream = True\n",
    "    )\n",
    "\n",
    "    response = \"\"\n",
    "    display_handle = display(Markdown(\"\"), display_id=True)\n",
    "    for chunk in stream:\n",
    "        response += chunk.choices[0].delta.content or ''\n",
    "        response = response.replace(\"```\",\"\").replace(\"markdown\", \"\")\n",
    "        update_display(Markdown(response), display_id=display_handle.display_id)"
   ]
  },
  {
   "cell_type": "code",
   "execution_count": 12,
   "metadata": {},
   "outputs": [
    {
     "data": {
      "text/markdown": [
       "<think>\n",
       "Okay, so I'm trying to understand this Python code: `yield from {book.get(\"author\") for book in books if book.get(\"author\")}`. I've heard about generators and comprehensions before, but I'm a bit confused about how they work together here. Let me break it down step by step.\n",
       "\n",
       "First, I know that `yield from` is used in generators to yield items from an iterable. So, whatever comes after it should be something that produces a sequence of values. In this case, it's a set comprehension inside the curly braces.\n",
       "\n",
       "Looking at the set comprehension: `{book.get(\"author\") for book in books if book.get(\"author\")}`. This looks similar to a list comprehension, but with curly braces, so it's a set. Sets are unordered collections of unique elements, so this will collect all unique authors from the books.\n",
       "\n",
       "The comprehension iterates over each `book` in `books`, which I assume is a list of dictionaries. Each dictionary represents a book and has an \"author\" key. The `book.get(\"author\")` method safely retrieves the author's name, and if it exists (i.e., is not None or not missing), it's included in the set. So, the set will contain all the authors who have at least one book in the list.\n",
       "\n",
       "Now, the `yield from` part. Since the set is an iterable, `yield from` will iterate over each author in the set and yield them one by one. This means that the function containing this line is a generator function, and when called, it will produce a sequence of authors, each as a separate value.\n",
       "\n",
       "I think the purpose here is to efficiently extract and yield each unique author from the list of books without duplicates. Using a set ensures that each author is only yielded once, even if they appear multiple times in the books list. The `yield from` allows the function to produce these values lazily, which is memory efficient, especially if the list of books is large.\n",
       "\n",
       "Wait, but why use a set comprehension instead of a list or another structure? Oh right, because sets automatically handle duplicates, so it's a clean way to get unique authors without having to check each time manually.\n",
       "\n",
       "Also, using `book.get(\"author\")` instead of `book[\"author\"]` is safer because it returns `None` if the key doesn't exist, preventing KeyError exceptions. The `if book.get(\"author\")` condition then filters out any books without an author, so only valid author names are included.\n",
       "\n",
       "So putting it all together, this line is part of a generator function that takes a list of books, extracts all the unique authors, and yields each one in turn. This is useful when you want to process each author without repetition, perhaps for further processing or display.\n",
       "\n",
       "I'm still a bit fuzzy on how exactly the `yield from` interacts with the set. Does it yield each element as they're added to the set, or does it wait until the set is fully built? I think it's the latter because set comprehensions are evaluated all at once. So the generator will first process all books to build the set of authors and then yield each author one by one.\n",
       "\n",
       "Another thing to note is that the order of authors yielded isn't guaranteed because sets are unordered. If the order matters, maybe a list comprehension would be better, but then you'd have to handle duplicates yourself, perhaps with an if condition checking against a seen set.\n",
       "\n",
       "Overall, this code efficiently and concisely extracts unique authors from a list of books and yields them one by one, making it a neat and memory-efficient solution.\n",
       "</think>\n",
       "\n",
       "The code `yield from {book.get(\"author\") for book in books if book.get(\"author\")}` is part of a generator function that efficiently extracts and yields each unique author from a list of books. Here's a breakdown of how it works:\n",
       "\n",
       "1. **Set Comprehension**: The curly braces `{}` create a set, which automatically handles duplicates, ensuring each author is only included once. The comprehension iterates over each book in the `books` list, using `book.get(\"author\")` to safely retrieve the author's name, and includes it only if it exists.\n",
       "\n",
       "2. **Yield From**: This statement takes the iterable (the set of authors) and yields each element one by one. It processes the entire set at once before yielding, ensuring all unique authors are identified first.\n",
       "\n",
       "3. **Efficiency and Use Case**: This approach is memory efficient, especially with large lists, as it lazily yields each author. It's ideal for scenarios where you need to process each unique author without repetition, such as in data processing or reporting tasks.\n",
       "\n",
       "In summary, the code efficiently generates a sequence of unique authors from a list of books, leveraging Python's set and generator features for concise and memory-efficient operation."
      ],
      "text/plain": [
       "<IPython.core.display.Markdown object>"
      ]
     },
     "metadata": {},
     "output_type": "display_data"
    }
   ],
   "source": [
    "get_answer()"
   ]
  },
  {
   "cell_type": "code",
   "execution_count": null,
   "metadata": {},
   "outputs": [],
   "source": []
  }
 ],
 "metadata": {
  "kernelspec": {
   "display_name": "llms",
   "language": "python",
   "name": "python3"
  },
  "language_info": {
   "codemirror_mode": {
    "name": "ipython",
    "version": 3
   },
   "file_extension": ".py",
   "mimetype": "text/x-python",
   "name": "python",
   "nbconvert_exporter": "python",
   "pygments_lexer": "ipython3",
   "version": "3.11.11"
  }
 },
 "nbformat": 4,
 "nbformat_minor": 2
}
