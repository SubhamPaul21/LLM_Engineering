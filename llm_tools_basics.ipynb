{
 "cells": [
  {
   "cell_type": "code",
   "execution_count": 2,
   "metadata": {},
   "outputs": [],
   "source": [
    "import os\n",
    "import json\n",
    "from dotenv import load_dotenv\n",
    "from openai import OpenAI\n",
    "import gradio as gr\n",
    "# from groq import Groq"
   ]
  },
  {
   "cell_type": "code",
   "execution_count": 3,
   "metadata": {},
   "outputs": [
    {
     "name": "stdout",
     "output_type": "stream",
     "text": [
      "DeepSeek Groq API key exists\n"
     ]
    }
   ],
   "source": [
    "load_dotenv(override=True)\n",
    "\n",
    "deepseek_api_key = os.getenv(\"GROQ_API_KEY\")\n",
    "if deepseek_api_key:\n",
    "    print(f\"DeepSeek Groq API key exists\")\n",
    "else:\n",
    "    print(\"Groq DeepSeek API key doesn't exists\")"
   ]
  },
  {
   "cell_type": "code",
   "execution_count": 4,
   "metadata": {},
   "outputs": [],
   "source": [
    "MODEL = \"deepseek-r1-distill-llama-70b\"\n",
    "client = OpenAI(base_url=\"https://api.groq.com/openai/v1\", api_key=deepseek_api_key)"
   ]
  },
  {
   "cell_type": "code",
   "execution_count": 5,
   "metadata": {},
   "outputs": [],
   "source": [
    "system_message = \"You are a helpful assistant for an Airline called Fligai. \"\n",
    "system_message += \"Give short, courteous answers, no more than 1 sentence. \"\n",
    "system_message += \"DO NOT provide hypothetical, fictional answers for demonstration purposes to the customer.\"\n",
    "system_message += \"Always be accurate. If you don't know the answer, say so.\""
   ]
  },
  {
   "cell_type": "code",
   "execution_count": 6,
   "metadata": {},
   "outputs": [],
   "source": [
    "import re\n",
    "\n",
    "def clean_content(content):\n",
    "    return re.sub(r\"<think>.*?</think>\", \"\", content, flags=re.DOTALL).strip()\n",
    "\n",
    "def clean_history(history):\n",
    "    return [{\"role\":element.get(\"role\"), \"content\": clean_content(element.get(\"content\"))} for element in history]"
   ]
  },
  {
   "cell_type": "code",
   "execution_count": 7,
   "metadata": {},
   "outputs": [],
   "source": [
    "def chat(message, history):\n",
    "    cleaned_history = clean_history(history)\n",
    "    print(f\"Cleaned History: {cleaned_history}\", end=\"\\n\\n\")\n",
    "    messages = [{\"role\": \"system\", \"content\": system_message}] + cleaned_history + [{\"role\": \"user\", \"content\": message}]\n",
    "    response = client.chat.completions.create(model=MODEL, messages=messages)\n",
    "    result = clean_content(response.choices[0].message.content)\n",
    "    print(f\"Result: {result}\", end=\"\\n\\n\")\n",
    "    return result\n",
    "\n",
    "# gr.ChatInterface(fn=chat, type=\"messages\").launch()"
   ]
  },
  {
   "cell_type": "code",
   "execution_count": 8,
   "metadata": {},
   "outputs": [],
   "source": [
    "# Making a mock flight price API response\n",
    "ticket_prices = {\"london\": \"$799\", \"paris\": \"$899\", \"tokyo\": \"$1400\", \"berlin\": \"$499\"}\n",
    "\n",
    "def get_ticket_price(destination_city):\n",
    "    if destination_city:\n",
    "        city = destination_city.lower()\n",
    "        return ticket_prices.get(city, \"Unknown\")\n",
    "    else:\n",
    "        return \"Unknown\"\n",
    "\n",
    "# Make a addition calculator tool\n",
    "def add_numbers(num1, num2):\n",
    "    return num1 + num2"
   ]
  },
  {
   "cell_type": "code",
   "execution_count": 9,
   "metadata": {},
   "outputs": [],
   "source": [
    "# There's a particular dictionary structure that's required to describe our function:\n",
    "price_function = {\n",
    "    \"name\": \"get_ticket_price\",\n",
    "    \"description\": \"Get the price of the ticket to the destination city. Call this whenever you need to know the ticket price, for \\\n",
    "        example, when a customer asks 'How much is a ticket to this city'\",\n",
    "    \"parameters\": {\n",
    "        \"type\": \"object\",\n",
    "        \"properties\": {\n",
    "            \"destination_city\": {\n",
    "                \"type\": \"string\",\n",
    "                \"description\": \"The city that the customer wants to travel to\"\n",
    "            }\n",
    "        },\n",
    "        \"required\": [\"destination_city\"],\n",
    "        \"additionalProperties\": False\n",
    "    }\n",
    "}\n",
    "\n",
    "add_function = {\n",
    "    \"name\": \"add_numbers\",\n",
    "    \"description\": \"Get the sum of two number. Call this whenever you need to know the sum of two integer numbers, for \\\n",
    "        example, when a customer asks 'What is the sum of one number and another number' or 'what is one number + second number'\",\n",
    "    \"parameters\": {\n",
    "        \"type\": \"object\",\n",
    "        \"properties\": {\n",
    "            \"num1\": {\n",
    "                \"type\": \"integer\",\n",
    "                \"description\": \"The first number to add\"\n",
    "            },\n",
    "            \"num2\": {\n",
    "                \"type\": \"integer\",\n",
    "                \"description\": \"The second number to add with the first number\"\n",
    "            }\n",
    "        },\n",
    "        \"required\": [\"num1\", \"num2\"],\n",
    "        \"additionalProperties\": False\n",
    "    }\n",
    "}"
   ]
  },
  {
   "cell_type": "code",
   "execution_count": 10,
   "metadata": {},
   "outputs": [],
   "source": [
    "# And this is included in a list of tools:\n",
    "tools = [\n",
    "    {\"type\": \"function\", \"function\": price_function},\n",
    "    {\"type\": \"function\", \"function\": add_function}]"
   ]
  },
  {
   "cell_type": "code",
   "execution_count": 11,
   "metadata": {},
   "outputs": [],
   "source": [
    "def chat(message, history):\n",
    "    cleaned_history = clean_history(history)\n",
    "    print(f\"Cleaned History: {cleaned_history}\", end=\"\\n\\n\")\n",
    "    messages = [{\"role\": \"system\", \"content\": system_message}] + cleaned_history + [{\"role\": \"user\", \"content\": message}]\n",
    "    response = client.chat.completions.create(model=MODEL, messages=messages, tools=tools)\n",
    "    # print(f\"Chat Response: {response}\", end=\"\\n\")\n",
    "    if response.choices[0].finish_reason == \"tool_calls\":\n",
    "        message = response.choices[0].message\n",
    "        response = handle_tool_call(message)\n",
    "        messages.append(response)\n",
    "        # print(f\"messages: {messages}\", end=\"\\n\")\n",
    "        response = client.chat.completions.create(model=MODEL, messages=messages)\n",
    "    result = clean_content(response.choices[0].message.content)\n",
    "    # print(f\"Result: {result}\", end=\"\\n\\n\")\n",
    "    return result"
   ]
  },
  {
   "cell_type": "code",
   "execution_count": 12,
   "metadata": {},
   "outputs": [],
   "source": [
    "# We have to write that function handle_tool_call:\n",
    "\n",
    "def handle_tool_call(message):\n",
    "    tool_calls = message.tool_calls\n",
    "    for tool_call in tool_calls:\n",
    "        tool_call_function = tool_call.function\n",
    "        if tool_call_function.name == \"get_ticket_price\":\n",
    "            arguments = json.loads(tool_call_function.arguments)\n",
    "            city = arguments.get('destination_city')\n",
    "            price = get_ticket_price(city)\n",
    "            response = {\n",
    "                \"role\": \"tool\",\n",
    "                \"content\": json.dumps({\"destination_city\": city,\"price\": price}),\n",
    "                \"tool_call_id\": tool_call.id\n",
    "            }\n",
    "            return response\n",
    "        elif tool_call_function.name == \"add_numbers\":\n",
    "            arguments = json.loads(tool_call_function.arguments)\n",
    "            num1, num2 = arguments.get('num1'), arguments.get('num2')\n",
    "            sum_value = add_numbers(num1, num2)\n",
    "            response = {\n",
    "                \"role\": \"tool\",\n",
    "                \"content\": json.dumps({\"num1\": num1, \"num2\": num2, \"sum_value\": sum_value}),\n",
    "                \"tool_call_id\": tool_call.id\n",
    "            }\n",
    "            return response"
   ]
  },
  {
   "cell_type": "code",
   "execution_count": null,
   "metadata": {},
   "outputs": [
    {
     "name": "stdout",
     "output_type": "stream",
     "text": [
      "* Running on local URL:  http://127.0.0.1:7860\n",
      "\n",
      "To create a public link, set `share=True` in `launch()`.\n"
     ]
    },
    {
     "data": {
      "text/html": [
       "<div><iframe src=\"http://127.0.0.1:7860/\" width=\"100%\" height=\"500\" allow=\"autoplay; camera; microphone; clipboard-read; clipboard-write;\" frameborder=\"0\" allowfullscreen></iframe></div>"
      ],
      "text/plain": [
       "<IPython.core.display.HTML object>"
      ]
     },
     "metadata": {},
     "output_type": "display_data"
    },
    {
     "data": {
      "text/plain": []
     },
     "execution_count": 13,
     "metadata": {},
     "output_type": "execute_result"
    },
    {
     "name": "stdout",
     "output_type": "stream",
     "text": [
      "Cleaned History: []\n",
      "\n",
      "Cleaned History: [{'role': 'user', 'content': 'Hello'}, {'role': 'assistant', 'content': 'Hello! How can I assist you today?'}]\n",
      "\n",
      "Cleaned History: [{'role': 'user', 'content': 'Hello'}, {'role': 'assistant', 'content': 'Hello! How can I assist you today?'}, {'role': 'user', 'content': 'what is the flight price to paris?'}, {'role': 'assistant', 'content': 'The flight price to Paris is $899.'}]\n",
      "\n",
      "Cleaned History: [{'role': 'user', 'content': 'Hello'}, {'role': 'assistant', 'content': 'Hello! How can I assist you today?'}, {'role': 'user', 'content': 'what is the flight price to paris?'}, {'role': 'assistant', 'content': 'The flight price to Paris is $899.'}, {'role': 'user', 'content': 'okay cool, and what is the sum of 125 + 255?'}, {'role': 'assistant', 'content': 'The sum of 125 + 255 is 380.'}]\n",
      "\n"
     ]
    }
   ],
   "source": [
    "gr.ChatInterface(fn=chat, type=\"messages\").launch()"
   ]
  },
  {
   "cell_type": "code",
   "execution_count": null,
   "metadata": {},
   "outputs": [],
   "source": []
  }
 ],
 "metadata": {
  "kernelspec": {
   "display_name": "llms",
   "language": "python",
   "name": "python3"
  },
  "language_info": {
   "codemirror_mode": {
    "name": "ipython",
    "version": 3
   },
   "file_extension": ".py",
   "mimetype": "text/x-python",
   "name": "python",
   "nbconvert_exporter": "python",
   "pygments_lexer": "ipython3",
   "version": "3.11.11"
  }
 },
 "nbformat": 4,
 "nbformat_minor": 2
}
