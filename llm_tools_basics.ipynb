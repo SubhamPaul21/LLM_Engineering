{
 "cells": [
  {
   "cell_type": "code",
   "execution_count": 3,
   "metadata": {},
   "outputs": [],
   "source": [
    "import os\n",
    "import json\n",
    "from dotenv import load_dotenv\n",
    "from openai import OpenAI\n",
    "import gradio as gr\n",
    "from groq import Groq"
   ]
  },
  {
   "cell_type": "code",
   "execution_count": 2,
   "metadata": {},
   "outputs": [
    {
     "name": "stdout",
     "output_type": "stream",
     "text": [
      "DeepSeek Groq API key exists\n"
     ]
    }
   ],
   "source": [
    "load_dotenv(override=True)\n",
    "\n",
    "deepseek_api_key = os.getenv(\"GROQ_API_KEY\")\n",
    "if deepseek_api_key:\n",
    "    print(f\"DeepSeek Groq API key exists\")\n",
    "else:\n",
    "    print(\"Groq DeepSeek API key doesn't exists\")"
   ]
  },
  {
   "cell_type": "code",
   "execution_count": 7,
   "metadata": {},
   "outputs": [],
   "source": [
    "MODEL = \"deepseek-r1-distill-llama-70b\"\n",
    "client = OpenAI(base_url=\"https://api.groq.com/openai/v1\", api_key=deepseek_api_key)"
   ]
  },
  {
   "cell_type": "code",
   "execution_count": 5,
   "metadata": {},
   "outputs": [],
   "source": [
    "system_message = \"You are a helpful assistant for an Airline called Fligai. \"\n",
    "system_message += \"Give short, courteous answers, no more than 1 sentence. \"\n",
    "system_message += \"DO NOT provide hypothetical, fictional answers for demonstration purposes to the customer.\"\n",
    "system_message += \"Always be accurate. If you don't know the answer, say so.\""
   ]
  },
  {
   "cell_type": "code",
   "execution_count": 35,
   "metadata": {},
   "outputs": [],
   "source": [
    "import re\n",
    "\n",
    "def clean_content(content):\n",
    "    return re.sub(r\"<think>.*?</think>\", \"\", content, flags=re.DOTALL).strip()\n",
    "\n",
    "def clean_history(history):\n",
    "    return [{\"role\":element.get(\"role\"), \"content\": clean_content(element.get(\"content\"))} for element in history]"
   ]
  },
  {
   "cell_type": "code",
   "execution_count": 36,
   "metadata": {},
   "outputs": [
    {
     "name": "stdout",
     "output_type": "stream",
     "text": [
      "* Running on local URL:  http://127.0.0.1:7873\n",
      "\n",
      "To create a public link, set `share=True` in `launch()`.\n"
     ]
    },
    {
     "data": {
      "text/html": [
       "<div><iframe src=\"http://127.0.0.1:7873/\" width=\"100%\" height=\"500\" allow=\"autoplay; camera; microphone; clipboard-read; clipboard-write;\" frameborder=\"0\" allowfullscreen></iframe></div>"
      ],
      "text/plain": [
       "<IPython.core.display.HTML object>"
      ]
     },
     "metadata": {},
     "output_type": "display_data"
    },
    {
     "data": {
      "text/plain": []
     },
     "execution_count": 36,
     "metadata": {},
     "output_type": "execute_result"
    }
   ],
   "source": [
    "def chat(message, history):\n",
    "    cleaned_history = clean_history(history)\n",
    "    print(f\"Cleaned History: {cleaned_history}\", end=\"\\n\\n\")\n",
    "    messages = [{\"role\": \"system\", \"content\": system_message}] + cleaned_history + [{\"role\": \"user\", \"content\": message}]\n",
    "    response = client.chat.completions.create(model=MODEL, messages=messages)\n",
    "    result = clean_content(response.choices[0].message.content)\n",
    "    print(f\"Result: {result}\", end=\"\\n\\n\")\n",
    "    return result\n",
    "\n",
    "gr.ChatInterface(fn=chat, type=\"messages\").launch()"
   ]
  },
  {
   "cell_type": "code",
   "execution_count": 40,
   "metadata": {},
   "outputs": [],
   "source": [
    "# Making a mock flight price API response\n",
    "ticket_prices = {\"london\": \"$799\", \"paris\": \"$899\", \"tokyo\": \"$1400\", \"berlin\": \"$499\"}\n",
    "\n",
    "def get_ticket_price(destination_city):\n",
    "    if destination_city:\n",
    "        city = destination_city.lower()\n",
    "        return ticket_prices.get(city, \"Unknown\")\n",
    "    else:\n",
    "        return \"Unknown\"\n",
    "\n",
    "# Make a addition calculator tool\n",
    "def add_numbers(num1, num2):\n",
    "    return num1 + num2"
   ]
  },
  {
   "cell_type": "code",
   "execution_count": 42,
   "metadata": {},
   "outputs": [],
   "source": [
    "# There's a particular dictionary structure that's required to describe our function:\n",
    "price_function = {\n",
    "    \"name\": \"get_ticket_price\",\n",
    "    \"description\": \"Get the price of the ticket to the destination city. Call this whenever you need to know the ticket price, for \\\n",
    "        example, when a customer asks 'How much is a ticket to this city'\",\n",
    "    \"parameters\": {\n",
    "        \"type\": \"object\",\n",
    "        \"properties\": {\n",
    "            \"destination_city\": {\n",
    "                \"type\": \"string\",\n",
    "                \"description\": \"The city that the customer wants to travel to\"\n",
    "            }\n",
    "        },\n",
    "        \"required\": [\"destination_city\"],\n",
    "        \"additionalProperties\": False\n",
    "    }\n",
    "}\n",
    "\n",
    "add_function = {\n",
    "    \"name\": \"add_numbers\",\n",
    "    \"description\": \"Get the sum of two number. Call this whenever you need to know the sum of two integer numbers, for \\\n",
    "        example, when a customer asks 'What is the sum of one number and another number' or 'what is one number + second number'\",\n",
    "    \"parameters\": {\n",
    "        \"type\": \"object\",\n",
    "        \"properties\": {\n",
    "            \"num1\": {\n",
    "                \"type\": \"integer\",\n",
    "                \"description\": \"The first number to add\"\n",
    "            },\n",
    "            \"num2\": {\n",
    "                \"type\": \"integer\",\n",
    "                \"description\": \"The second number to add with the first number\"\n",
    "            }\n",
    "        },\n",
    "        \"required\": [\"num1\", \"num2\"],\n",
    "        \"additionalProperties\": False\n",
    "    }\n",
    "}"
   ]
  },
  {
   "cell_type": "code",
   "execution_count": 43,
   "metadata": {},
   "outputs": [],
   "source": [
    "# And this is included in a list of tools:\n",
    "tools = [\n",
    "    {\"type\": \"function\", \"function\": price_function},\n",
    "    {\"type\": \"function\", \"function\": add_function}\n",
    "    ]"
   ]
  },
  {
   "cell_type": "code",
   "execution_count": 44,
   "metadata": {},
   "outputs": [],
   "source": [
    "def chat(message, history):\n",
    "    cleaned_history = clean_history(history)\n",
    "    print(f\"Cleaned History: {cleaned_history}\", end=\"\\n\\n\")\n",
    "    messages = [{\"role\": \"system\", \"content\": system_message}] + cleaned_history + [{\"role\": \"user\", \"content\": message}]\n",
    "    response = client.chat.completions.create(model=MODEL, messages=messages, tools=tools)\n",
    "    print(f\"Chat Response: {response}\", end=\"\\n\")\n",
    "    if response.choices[0].finish_reason == \"tool_calls\":\n",
    "        message = response.choices[0].message\n",
    "        response = handle_tool_call(message)\n",
    "        messages.append(response)\n",
    "        print(f\"messages: {messages}\", end=\"\\n\")\n",
    "        response = client.chat.completions.create(model=MODEL, messages=messages)\n",
    "    result = clean_content(response.choices[0].message.content)\n",
    "    print(f\"Result: {result}\", end=\"\\n\\n\")\n",
    "    return result"
   ]
  },
  {
   "cell_type": "code",
   "execution_count": 51,
   "metadata": {},
   "outputs": [],
   "source": [
    "# We have to write that function handle_tool_call:\n",
    "\n",
    "def handle_tool_call(message):\n",
    "    tool_calls = message.tool_calls\n",
    "    for tool_call in tool_calls:\n",
    "        tool_call_function = tool_call.function\n",
    "        if tool_call_function.name == \"get_ticket_price\":\n",
    "            arguments = json.loads(tool_call_function.arguments)\n",
    "            city = arguments.get('destination_city')\n",
    "            price = get_ticket_price(city)\n",
    "            response = {\n",
    "                \"role\": \"tool\",\n",
    "                \"content\": json.dumps({\"destination_city\": city,\"price\": price}),\n",
    "                \"tool_call_id\": tool_call.id\n",
    "            }\n",
    "            return response\n",
    "        elif tool_call_function.name == \"add_numbers\":\n",
    "            arguments = json.loads(tool_call_function.arguments)\n",
    "            num1, num2 = arguments.get('num1'), arguments.get('num2')\n",
    "            sum_value = add_numbers(num1, num2)\n",
    "            response = {\n",
    "                \"role\": \"tool\",\n",
    "                \"content\": json.dumps({\"num1\": num1, \"num2\": num2, \"sum_value\": sum_value}),\n",
    "                \"tool_call_id\": tool_call.id\n",
    "            }\n",
    "            return response"
   ]
  },
  {
   "cell_type": "code",
   "execution_count": null,
   "metadata": {},
   "outputs": [
    {
     "name": "stdout",
     "output_type": "stream",
     "text": [
      "* Running on local URL:  http://127.0.0.1:7877\n",
      "\n",
      "To create a public link, set `share=True` in `launch()`.\n"
     ]
    },
    {
     "data": {
      "text/html": [
       "<div><iframe src=\"http://127.0.0.1:7877/\" width=\"100%\" height=\"500\" allow=\"autoplay; camera; microphone; clipboard-read; clipboard-write;\" frameborder=\"0\" allowfullscreen></iframe></div>"
      ],
      "text/plain": [
       "<IPython.core.display.HTML object>"
      ]
     },
     "metadata": {},
     "output_type": "display_data"
    },
    {
     "data": {
      "text/plain": []
     },
     "execution_count": 52,
     "metadata": {},
     "output_type": "execute_result"
    },
    {
     "name": "stdout",
     "output_type": "stream",
     "text": [
      "Cleaned History: []\n",
      "\n",
      "Chat Response: ChatCompletion(id='chatcmpl-f4d6f6d0-5f41-41f6-83c5-0df871c85318', choices=[Choice(finish_reason='stop', index=0, logprobs=None, message=ChatCompletionMessage(content='Hello! How can I assist you today?', refusal=None, role='assistant', annotations=None, audio=None, function_call=None, tool_calls=None, reasoning='Alright, so the user sent \"hi\" as their message. I need to figure out how to respond appropriately. Since I\\'m an assistant for Fligai Airlines, I should be helpful and courteous.\\n\\nFirst, I should greet them back. Maybe say something like, \"Hello! How can I assist you today?\" That sounds friendly and opens the door for them to ask for help.\\n\\nI also need to remember not to provide any hypothetical or fictional answers. I should stick to accurate information and if I don\\'t know something, I need to let them know. But in this case, since they just said \"hi,\" a simple greeting should suffice.\\n\\nI don\\'t think I need to call any of the functions provided because the user hasn\\'t asked for any specific information yet. So, I\\'ll just respond with a warm greeting and wait for their next input.\\n'))], created=1743152019, model='deepseek-r1-distill-llama-70b', object='chat.completion', service_tier=None, system_fingerprint='fp_2834edf0f4', usage=CompletionUsage(completion_tokens=187, prompt_tokens=348, total_tokens=535, completion_tokens_details=None, prompt_tokens_details=None, queue_time=0.6559436080000001, prompt_time=0.028134987, completion_time=0.68, total_time=0.708134987), x_groq={'id': 'req_01jqdz9xcaem68w2nvha9s92dg'})\n",
      "Result: Hello! How can I assist you today?\n",
      "\n",
      "Cleaned History: [{'role': 'user', 'content': 'hi'}, {'role': 'assistant', 'content': 'Hello! How can I assist you today?'}]\n",
      "\n",
      "Chat Response: ChatCompletion(id='chatcmpl-b000aaea-f2e5-4331-af70-592d67749b9f', choices=[Choice(finish_reason='tool_calls', index=0, logprobs=None, message=ChatCompletionMessage(content=None, refusal=None, role='assistant', annotations=None, audio=None, function_call=None, tool_calls=[ChatCompletionMessageToolCall(id='call_ywk5', function=Function(arguments='{\"destination_city\":\"Berlin\"}', name='get_ticket_price'), type='function')], reasoning=\"Okay, the user is asking about the flight price to Berlin. I need to respond helpfully. I remember I have access to a function called get_ticket_price which takes a destination city. So, I should call that function with Berlin as the destination. I'll structure the response to include the tool_call with the function name and the destination_city parameter set to Berlin. That should give the user the accurate price they're looking for.\\n\"))], created=1743152026, model='deepseek-r1-distill-llama-70b', object='chat.completion', service_tier=None, system_fingerprint='fp_2834edf0f4', usage=CompletionUsage(completion_tokens=113, prompt_tokens=368, total_tokens=481, completion_tokens_details=None, prompt_tokens_details=None, queue_time=0.10704462900000002, prompt_time=0.021577271, completion_time=0.410909091, total_time=0.432486362), x_groq={'id': 'req_01jqdza55fej5vcm7gq611rth4'})\n",
      "messages: [{'role': 'system', 'content': \"You are a helpful assistant for an Airline called Fligai. Give short, courteous answers, no more than 1 sentence. DO NOT provide hypothetical, fictional answers for demonstration purposes to the customer.Always be accurate. If you don't know the answer, say so.\"}, {'role': 'user', 'content': 'hi'}, {'role': 'assistant', 'content': 'Hello! How can I assist you today?'}, {'role': 'user', 'content': 'what is the flight price to berlin?'}, {'role': 'tool', 'content': '{\"destination_city\": \"Berlin\", \"price\": \"$499\"}', 'tool_call_id': 'call_ywk5'}]\n",
      "Result: The current flight price to Berlin is $499. Would you like assistance with booking or more details?\n",
      "\n",
      "Cleaned History: [{'role': 'user', 'content': 'hi'}, {'role': 'assistant', 'content': 'Hello! How can I assist you today?'}, {'role': 'user', 'content': 'what is the flight price to berlin?'}, {'role': 'assistant', 'content': 'The current flight price to Berlin is $499. Would you like assistance with booking or more details?'}]\n",
      "\n",
      "Chat Response: ChatCompletion(id='chatcmpl-bafa65ef-3e46-4f5f-af1a-cbed34bd4569', choices=[Choice(finish_reason='tool_calls', index=0, logprobs=None, message=ChatCompletionMessage(content=None, refusal=None, role='assistant', annotations=None, audio=None, function_call=None, tool_calls=[ChatCompletionMessageToolCall(id='call_1q1c', function=Function(arguments='{\"num1\":210,\"num2\":210}', name='add_numbers'), type='function')], reasoning='Alright, the user just asked, \"and what is 210 + 210.\" They previously inquired about the flight price to Berlin, which I provided as $499 and offered further assistance. Now, they\\'re moving on to a math question. \\n\\nFirst, I need to understand what they\\'re asking for. They want the sum of 210 and 210. Looking at the tools available, I have the add_numbers function which takes two integers and returns their sum. \\n\\nSo, I should call the add_numbers tool with num1 as 210 and num2 as 210. This will give me the correct result. \\n\\nI should make sure my response is concise and helpful, as per the instructions. Also, since the user is interacting with an airline assistant, they might be planning a trip and need both flight and accommodation costs, hence the addition. \\n\\nI don\\'t see any need for hypothetical examples here since the function will handle the calculation accurately. If I don\\'t have the answer, I should say so, but in this case, the tool should provide it.\\n'))], created=1743152049, model='deepseek-r1-distill-llama-70b', object='chat.completion', service_tier=None, system_fingerprint='fp_fc872c073e', usage=CompletionUsage(completion_tokens=246, prompt_tokens=399, total_tokens=645, completion_tokens_details=None, prompt_tokens_details=None, queue_time=0.054789643, prompt_time=0.023419887, completion_time=0.894545455, total_time=0.917965342), x_groq={'id': 'req_01jqdzavjre32t0b7zembq2v65'})\n",
      "messages: [{'role': 'system', 'content': \"You are a helpful assistant for an Airline called Fligai. Give short, courteous answers, no more than 1 sentence. DO NOT provide hypothetical, fictional answers for demonstration purposes to the customer.Always be accurate. If you don't know the answer, say so.\"}, {'role': 'user', 'content': 'hi'}, {'role': 'assistant', 'content': 'Hello! How can I assist you today?'}, {'role': 'user', 'content': 'what is the flight price to berlin?'}, {'role': 'assistant', 'content': 'The current flight price to Berlin is $499. Would you like assistance with booking or more details?'}, {'role': 'user', 'content': 'and what is 210 + 210'}, {'role': 'tool', 'content': '{\"num1\": 210, \"num2\": 210, \"sum_value\": 420}', 'tool_call_id': 'call_1q1c'}]\n",
      "Result: The sum of 210 and 210 is 420. How can I assist you further?\n",
      "\n"
     ]
    }
   ],
   "source": [
    "gr.ChatInterface(fn=chat, type=\"messages\").launch()"
   ]
  },
  {
   "cell_type": "code",
   "execution_count": null,
   "metadata": {},
   "outputs": [],
   "source": []
  }
 ],
 "metadata": {
  "kernelspec": {
   "display_name": "llms",
   "language": "python",
   "name": "python3"
  },
  "language_info": {
   "codemirror_mode": {
    "name": "ipython",
    "version": 3
   },
   "file_extension": ".py",
   "mimetype": "text/x-python",
   "name": "python",
   "nbconvert_exporter": "python",
   "pygments_lexer": "ipython3",
   "version": "3.11.11"
  }
 },
 "nbformat": 4,
 "nbformat_minor": 2
}
