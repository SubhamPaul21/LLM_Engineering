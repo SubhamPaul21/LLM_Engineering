{
 "cells": [
  {
   "cell_type": "code",
   "execution_count": 2,
   "metadata": {},
   "outputs": [],
   "source": [
    "# if using gpt or groq, load api key, else ignore if using ollama\n",
    "from groq import Groq\n",
    "import os\n",
    "from dotenv import load_dotenv\n",
    "\n",
    "load_dotenv(override=True)\n",
    "api_key = os.getenv(\"GROQ_API_KEY\") # change env variable name to the one present in your .env file\n",
    "\n",
    "client = Groq(api_key=api_key)\n",
    "# client = OpenAI(api_key=api_key)\n",
    "# client = ollama"
   ]
  },
  {
   "cell_type": "code",
   "execution_count": 5,
   "metadata": {},
   "outputs": [],
   "source": [
    "from IPython.display import Markdown, display"
   ]
  },
  {
   "cell_type": "code",
   "execution_count": 6,
   "metadata": {},
   "outputs": [
    {
     "data": {
      "text/markdown": [
       "**Tata Motors Limited (TATA Motors)**\n",
       "\n",
       "**Overview**\n",
       "\n",
       "Tata Motors Limited is an Indian multinational automotive manufacturing company headquartered in Mumbai, India. The company is a leading manufacturer of commercial and passenger vehicles, including the iconic Jaguar and Land Rover brands.\n",
       "\n",
       "**Stock Performance (NSE)**\n",
       "\n",
       "* **Current Price:** ₹ 962.30 (as of March 15, 2023)\n",
       "* **Market Capitalization:** ₹ 2,53,111 crores (approximately $33.5 billion USD)\n",
       "* **52-Week High/Low:** ₹ 1,065.60 / ₹ 734.20\n",
       "\n",
       "**Financials (FY2022)**\n",
       "\n",
       "* **Revenue:** ₹ 2,81,507 crores (up 25.3% YoY)\n",
       "* **Net Profit:** ₹ 3,507 crores (up 150.8% YoY)\n",
       "* **EBITDA Margin:** 8.2% (vs. 5.8% in FY2021)\n",
       "* **Debt-to-Equity Ratio:** 2.13 (vs. 2.35 in FY2021)\n",
       "\n",
       "**Business Segments**\n",
       "\n",
       "1. **Domestic & International Business:** This segment includes the sales of Tata Motors' commercial and passenger vehicles in India and other countries.\n",
       "2. **Jaguar Land Rover (JLR):** This segment includes the sales of luxury vehicles under the Jaguar and Land Rover brands.\n",
       "\n",
       "**Key Developments**\n",
       "\n",
       "* **Electric Vehicle (EV) Strategy:** Tata Motors has announced plans to launch a range of electric vehicles in the coming years, with a focus on the Indian market.\n",
       "* **JLR's Performance:** JLR's sales have been recovering well, driven by strong demand for models like the Land Rover Defender and Jaguar I-PACE.\n",
       "* **CV Market Share:** Tata Motors has been gaining market share in the commercial vehicle (CV) segment in India, driven by its strong product portfolio and expanding dealership network.\n",
       "\n",
       "**Technical Analysis**\n",
       "\n",
       "* **Chart Pattern:** The stock has been forming a base around ₹ 900-950, with a strong support line at ₹ 900.\n",
       "* **Trend Indicators:** The 50-day and 200-day moving averages are placed at ₹ 952 and ₹ 900, respectively, indicating a bullish trend.\n",
       "* **Relative Strength Index (RSI):** The RSI is currently at 55.6, indicating a neutral level.\n",
       "\n",
       "**Fundamental Analysis**\n",
       "\n",
       "* **Price-to-Earnings (P/E) Ratio:** 20.4x (vs. 15.6x in FY2021)\n",
       "* **Price-to-Book (P/B) Ratio:** 4.4x (vs. 3.8x in FY2021)\n",
       "* **Dividend Yield:** 0.8%\n",
       "\n",
       "**Recommendation**\n",
       "\n",
       "Based on our analysis, we recommend a **BUY** on Tata Motors Limited with a target price of ₹ 1,100-1,200 in the next 6-12 months. The stock has a strong brand portfolio, improving financial performance, and a favorable industry outlook. However, investors should keep in mind that the stock market is volatile, and it's essential to monitor the company's performance and industry trends closely.\n",
       "\n",
       "**Disclaimer:** This report is for informational purposes only and should not be considered as investment advice. Please consult a financial advisor or conduct your own research before making any investment decisions."
      ],
      "text/plain": [
       "<IPython.core.display.Markdown object>"
      ]
     },
     "metadata": {},
     "output_type": "display_data"
    }
   ],
   "source": [
    "system_prompt = \"You are an intelligent and smart Indian stock market anaalyst. When the user asks for details of a particular stock. You research and give be a proper analyzed report of that stock.\"\n",
    "\n",
    "stock_name = input(\"Enter the stock you want to research about: \")\n",
    "\n",
    "user_prompt = f\"Give me stock details for the following stock: ${stock_name}\"\n",
    "\n",
    "messages = [\n",
    "    {\"role\": \"system\", \"content\": system_prompt},\n",
    "    {\"role\": \"user\", \"content\": user_prompt}\n",
    "]\n",
    "\n",
    "completion = client.chat.completions.create(\n",
    "    model=\"meta-llama/llama-4-scout-17b-16e-instruct\",\n",
    "    messages=messages,\n",
    "    temperature=1,\n",
    "    max_completion_tokens=1024,\n",
    "    top_p=1,\n",
    "    stream=False,\n",
    "    stop=None,\n",
    ")\n",
    "\n",
    "result = completion.choices[0].message.content\n",
    "display(Markdown(result))"
   ]
  },
  {
   "cell_type": "code",
   "execution_count": null,
   "metadata": {},
   "outputs": [],
   "source": []
  }
 ],
 "metadata": {
  "kernelspec": {
   "display_name": "llms",
   "language": "python",
   "name": "python3"
  },
  "language_info": {
   "codemirror_mode": {
    "name": "ipython",
    "version": 3
   },
   "file_extension": ".py",
   "mimetype": "text/x-python",
   "name": "python",
   "nbconvert_exporter": "python",
   "pygments_lexer": "ipython3",
   "version": "3.11.11"
  }
 },
 "nbformat": 4,
 "nbformat_minor": 2
}
